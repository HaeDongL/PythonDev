{
 "cells": [
  {
   "cell_type": "code",
   "execution_count": 15,
   "metadata": {},
   "outputs": [
    {
     "name": "stdout",
     "output_type": "stream",
     "text": [
      "<class 'int'>\n",
      "65\n",
      "66\n",
      "1\n",
      "314.0\n",
      "3140.0\n",
      "0.0314\n"
     ]
    }
   ],
   "source": [
    "i = 65 # 65를 i 에 담는다가 아니라 65라는 객체가 생성되고 i라는 변수가 그 객체의 주소를 참조한다.\n",
    "print(type(i))\n",
    "i.bit_length()\n",
    "bin(i)\n",
    "\n",
    "ord('A') # 문자를 유니코드값으로 반환해줌 인코딩 : 문자열을 숫자로\n",
    "ord('B') # \n",
    "print(ord('A'))\n",
    "print(ord('B'))\n",
    "\n",
    "chr(65) # ord와 반대의 함수 디코딩 : 숫자를 문자열로\n",
    "chr(65+25)\n",
    "\n",
    "a = 0\n",
    "b = 1\n",
    "c = a + b\n",
    "print(c)\n",
    "\n",
    "bin(ord('a'))\n",
    "\n",
    "print(3.14e2)\n",
    "\n",
    "print(3.14*10*10**2)\n",
    "print(3.14e-2)"
   ]
  }
 ],
 "metadata": {
  "interpreter": {
   "hash": "8931d08a56ba8ec5bd4013e6d6c9066a90d099ecd0b9731835efa4c48cf46a24"
  },
  "kernelspec": {
   "display_name": "Python 3.10.1 64-bit",
   "language": "python",
   "name": "python3"
  },
  "language_info": {
   "codemirror_mode": {
    "name": "ipython",
    "version": 3
   },
   "file_extension": ".py",
   "mimetype": "text/x-python",
   "name": "python",
   "nbconvert_exporter": "python",
   "pygments_lexer": "ipython3",
   "version": "3.10.1"
  },
  "orig_nbformat": 4
 },
 "nbformat": 4,
 "nbformat_minor": 2
}

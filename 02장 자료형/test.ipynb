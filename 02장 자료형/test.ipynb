{
 "cells": [
  {
   "cell_type": "code",
   "execution_count": 15,
   "metadata": {},
   "outputs": [
    {
     "name": "stdout",
     "output_type": "stream",
     "text": [
      "<class 'int'>\n",
      "65\n",
      "66\n",
      "1\n",
      "314.0\n",
      "3140.0\n",
      "0.0314\n"
     ]
    }
   ],
   "source": [
    "i = 65 # 65를 i 에 담는다가 아니라 65라는 객체가 생성되고 i라는 변수가 그 객체의 주소를 참조한다.\n",
    "print(type(i))\n",
    "i.bit_length()\n",
    "bin(i)\n",
    "\n",
    "ord('A') # 문자를 유니코드값으로 반환해줌 인코딩 : 문자열을 숫자로\n",
    "ord('B') # \n",
    "print(ord('A'))\n",
    "print(ord('B'))\n",
    "\n",
    "chr(65) # ord와 반대의 함수 디코딩 : 숫자를 문자열로\n",
    "chr(65+25)\n",
    "\n",
    "a = 0\n",
    "b = 1\n",
    "c = a + b\n",
    "print(c)\n",
    "\n",
    "bin(ord('a'))\n",
    "\n",
    "print(3.14e2)\n",
    "\n",
    "print(3.14*10*10**2)\n",
    "print(3.14e-2)"
   ]
  },
  {
   "cell_type": "code",
   "execution_count": 7,
   "metadata": {},
   "outputs": [
    {
     "name": "stdout",
     "output_type": "stream",
     "text": [
      "C:/PythonDev/name\n"
     ]
    }
   ],
   "source": [
    "path = \"C:\\\\PythonDev\\\\name\"\n",
    "path = \"C:/PythonDev/name\"\n",
    "print(path)"
   ]
  },
  {
   "cell_type": "code",
   "execution_count": 87,
   "metadata": {},
   "outputs": [
    {
     "data": {
      "text/plain": [
       "5"
      ]
     },
     "execution_count": 87,
     "metadata": {},
     "output_type": "execute_result"
    }
   ],
   "source": [
    "#       인덱싱과 슬라이싱\n",
    "text = \"Life is too short, You need python\"\n",
    "text[19]\n",
    "text[0]\n",
    "text[-1]\n",
    "text[-2]\n",
    "text[-1] == text[33]\n",
    "text[0] == text[-34]\n",
    "text[0:4]\n",
    "# text[시작인텍스(0부터시작):끝인덱스(1부터 시작)] 슬라이싱\n",
    "text[0:4]\n",
    "text[-6:] # 뒷부분을 생략하면 시작점부터 끝까지 찍어낸다\n",
    "text[:4] # 위와 반대로하면 처음부터 지정한 끝까지\n",
    "text[:] # 전부 다나옴\n",
    "\n",
    "li = [1,2,3,4,5]\n",
    "li[:3]\n",
    "li[-1]\n",
    "\n",
    "\n"
   ]
  },
  {
   "cell_type": "code",
   "execution_count": 106,
   "metadata": {},
   "outputs": [
    {
     "name": "stdout",
     "output_type": "stream",
     "text": [
      "영,님의 국어점수는 92점입니다.\n",
      "고님의 국어점수는 80점입니다.\n",
      "길님의 국어점수는 70점입니다.\n",
      "순님의 국어점수는 42점입니다.\n",
      "1\n",
      "2\n",
      "3\n",
      "4\n"
     ]
    }
   ],
   "source": [
    "# 문자열 포매팅\n",
    "subject = \"국어\"\n",
    "name = [\"영,\",\"고\",\"길\",\"순\"]\n",
    "score = [92,80,70,42]\n",
    "\n",
    "# 이런것도 됨\n",
    "for i in range(len(score)): # 항상 len으로 길이를 받은 후에 range로 묶어야 for조건식에 들어간다.\n",
    "    print(\"%s님의 %s점수는 %d점입니다.\"%(name[i],subject,score[i]))\n",
    "\n",
    "\n",
    "\n",
    "\n"
   ]
  },
  {
   "cell_type": "code",
   "execution_count": 111,
   "metadata": {},
   "outputs": [
    {
     "name": "stdout",
     "output_type": "stream",
     "text": [
      "영희님의 수학점수는 95점입니다.\n"
     ]
    }
   ],
   "source": [
    "# \"문자열\".format()\n",
    "name = \"영희\"\n",
    "sub = \"수학\"\n",
    "score = 95\n",
    "\n",
    "text = \"{0}님의 {1}점수는 {2}점입니다.\".format(name,sub,score)\n",
    "# 비워주면 포맷함수의 값을 순서대로 대입한다.\n",
    "print(text)\n"
   ]
  },
  {
   "cell_type": "code",
   "execution_count": null,
   "metadata": {},
   "outputs": [],
   "source": [
    "# 가장 최신 포맷방법\n",
    "name = \"영희\"\n",
    "sub = \"수학\"\n",
    "score = 95\n",
    "\n",
    "text = f\"{name}님의 {sub}점수는 {score}점입니다.\"\n",
    "# 비워주면 포맷함수의 값을 순서대로 대입한다.\n",
    "print(text)"
   ]
  }
 ],
 "metadata": {
  "interpreter": {
   "hash": "8931d08a56ba8ec5bd4013e6d6c9066a90d099ecd0b9731835efa4c48cf46a24"
  },
  "kernelspec": {
   "display_name": "Python 3.10.1 64-bit",
   "language": "python",
   "name": "python3"
  },
  "language_info": {
   "codemirror_mode": {
    "name": "ipython",
    "version": 3
   },
   "file_extension": ".py",
   "mimetype": "text/x-python",
   "name": "python",
   "nbconvert_exporter": "python",
   "pygments_lexer": "ipython3",
   "version": "3.10.1"
  },
  "orig_nbformat": 4
 },
 "nbformat": 4,
 "nbformat_minor": 2
}

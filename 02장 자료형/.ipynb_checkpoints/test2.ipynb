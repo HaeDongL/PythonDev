{
 "cells": [
  {
   "cell_type": "code",
   "execution_count": null,
   "metadata": {},
   "outputs": [],
   "source": [
    "number = [1,2,3,4,5,6,7,8]\n",
    "for i in range(1,8): # range()함수는 ()안에 있는 숫자 만큼 값을 생성 \n",
    "                            # 10을 주면 0 ~ 9 생성 1,10 주면 1 ~ 10생성\n",
    "    print(number[i])\n",
    "\n",
    "# append() 라는 함수로 리스트에 값을 입력받을수 있다."
   ]
  },
  {
   "cell_type": "code",
   "execution_count": 19,
   "metadata": {},
   "outputs": [
    {
     "name": "stdout",
     "output_type": "stream",
     "text": [
      "입력된 점수는 국어:65점 영어:45점 수학:75점\n",
      "국어:65점 영어:45점 수학:75점\n",
      "총점:185 평균:61\n"
     ]
    }
   ],
   "source": [
    "while True:\n",
    "    menu = \"\"\"\n",
    "        1. 점수입력\n",
    "        2. 점수계산\n",
    "        3. 종료\n",
    "    \"\"\"\n",
    "    number = int(input(\"선택: \"))\n",
    "    if number == 1:\n",
    "        kor = int(input(\"국어 점수 입력: \"))\n",
    "        eng = int(input(\"영어 점수 입력: \"))\n",
    "        math = int(input(\"수학 점수 입력: \"))\n",
    "        print(\"입력된 점수는 국어:%d점 영어:%d점 수학:%d점\"%(kor,eng,math))\n",
    "        # 위에처럼 %d,s,f 옵션을 여러개 주고 변수를 각 자리마다 할당할때 %()안에 넣으면된다.\n",
    "    elif number == 2:\n",
    "        total = kor + eng + math\n",
    "        average = total / 3\n",
    "        print(\"국어:%d점 영어:%d점 수학:%d점\"%(kor,eng,math))\n",
    "        print(\"총점:%d 평균:%d\"%(total,average))\n",
    "\n",
    "    elif number == 3:\n",
    "        break\n",
    "\n"
   ]
  },
  {
   "cell_type": "code",
   "execution_count": 20,
   "metadata": {},
   "outputs": [
    {
     "name": "stdout",
     "output_type": "stream",
     "text": [
      "1\n",
      "2\n",
      "3\n"
     ]
    }
   ],
   "source": [
    "# 빈 list 공간에 값 넣기\n",
    "list = []\n",
    "list.append(int(input(\"숫자를 입력: \")))\n",
    "list.append(int(input(\"숫자를 입력: \")))\n",
    "list.append(int(input(\"숫자를 입력: \")))\n",
    "# 빈 리스트 안에 이렇게 해서 몇개를 입력받아도 상관없다.\n",
    "for i in range(3):\n",
    "    print(list[i])\n",
    "\n",
    "# JAVA 컴파일 되고 .JAVA -> .class 가 되어 자바 가상 머신이 이것을 받아 OS에서 출력가능하겠금 0101... 바이너리\n",
    "# 데이터로 변경해준다.\n",
    "\n",
    "\n"
   ]
  },
  {
   "cell_type": "code",
   "execution_count": 23,
   "metadata": {},
   "outputs": [
    {
     "name": "stdout",
     "output_type": "stream",
     "text": [
      "입력된 점수: 76\n",
      "입력된 점수: 57\n",
      "입력된 점수: 68\n",
      "입력된 점수: 56\n",
      "입력된 점수: 45\n",
      "총점 : 487점 평균: 097점\n"
     ]
    }
   ],
   "source": [
    "# 리스트에 값을 입력받아서 평균을 구하는 프로그램\n",
    "# 입력받을 점수의 갯수를 지정\n",
    "number = int(input(\"몇개의 점수를 입력 받겠습니까 :\"))\n",
    "score = []\n",
    "# for문을 사용하여 number에 입력된 수 만큼 scorelist에 값을 넣는다.\n",
    "\n",
    "for i in range(number): # 그냥 정수만 입력해두면 for문은 실행되지 않는다 반드시 정수값을 받고\n",
    "    # range함수를 사용해야한다. range() 0 ~ 입력된 값-1까지 정수를 생성한다. range(4,9) : 하면 4 ~ 8까지 생성된다.\n",
    "    score.append(int(input(\"점수를 입력: \")))\n",
    "for i in range(len(score)):\n",
    "    print(\"입력된 점수:\",score[i])\n",
    "for i in range(len(score)):\n",
    "    total += score[i]\n",
    "\n",
    "average = total / len(score)\n",
    "print(\"총점 : %03d점 평균: %03d점\"%(total,average))\n",
    "\n",
    "\n"
   ]
  },
  {
   "cell_type": "code",
   "execution_count": 26,
   "metadata": {},
   "outputs": [
    {
     "name": "stdout",
     "output_type": "stream",
     "text": [
      "이름 : 이해동\n"
     ]
    }
   ],
   "source": [
    "name = \"이해동\"\n",
    "print(\"이름 : %s\"%name)"
   ]
  },
  {
   "cell_type": "code",
   "execution_count": 31,
   "metadata": {},
   "outputs": [
    {
     "name": "stdout",
     "output_type": "stream",
     "text": [
      "\n",
      "이름:98 번호:98번\n",
      "국어:98점 영어:98점 수학:43점\n",
      "총점:239점 평균:79.67점 등급:C\n",
      "\n"
     ]
    }
   ],
   "source": [
    "# 이름과 번호 를 입력받고 국어 수학 영어 점수를 입력받아 총점과 평균을 구한뒤\n",
    "# 90점 이상 A, 80점이상 B, 70점이상 C, 60점 이상 D, 그외는 F\n",
    "# wheil을 사용해서 점수의 범위를 정확히 검증할것.\\\n",
    "# 이름 : ### 번호 : 000번\n",
    "# 국어 : 000점 영어 : 000점 수학 : 000점\n",
    "# 총점 : 000점 평균 : 000점 등급 : A ~ F 순으로 출력되게 하시오\n",
    "name = input(\"이름을 입력: \")\n",
    "number = int(input(\"번호를 입력하세요: \"))\n",
    "\n",
    "kor = int(input(\"국어 점수를 입력하세요: \"))\n",
    "# 점수 범위를 검증하는 while문\n",
    "while kor > 100 or kor < 0:\n",
    "    kor = int(input(\"잘못된 범위의 점수 입니다. 재입력 하세요: \"))\n",
    "eng = int(input(\"영어 점수를 입력하세요: \"))\n",
    "# 점수 범위를 검증하는 while문\n",
    "while eng > 100 or eng < 0:\n",
    "    eng = int(input(\"잘못된 범위의 점수 입니다. 재입력 하세요: \"))\n",
    "math = int(input(\"수학 점수를 입력하세요: \"))\n",
    "# 점수 범위를 검증하는 while문\n",
    "while math > 100 or math < 0:\n",
    "    math = int(input(\"잘못된 범위의 점수 입니다. 재입력 하세요: \"))\n",
    "\n",
    "# 총점\n",
    "total = kor + eng + math\n",
    "# 평균\n",
    "average = total / 3\n",
    "rank = \"\"\n",
    "\n",
    "if average >= 90:\n",
    "    rank = \"A\"\n",
    "elif average >=80:\n",
    "    rank = \"B\"\n",
    "elif average >=70:\n",
    "    rank = \"C\"\n",
    "elif average >=60:\n",
    "    rank = \"D\"\n",
    "else:\n",
    "    rank = \"F\"\n",
    "print(\"\"\"\n",
    "이름:%s 번호:%d번\n",
    "국어:%d점 영어:%d점 수학:%d점\n",
    "총점:%d점 평균:%0.2f점 등급:%s\n",
    "\"\"\"%(name,number,kor,eng,math,total,average,rank))\n",
    "\n",
    "\n",
    "\n"
   ]
  }
 ],
 "metadata": {
  "interpreter": {
   "hash": "8931d08a56ba8ec5bd4013e6d6c9066a90d099ecd0b9731835efa4c48cf46a24"
  },
  "kernelspec": {
   "display_name": "Python 3.10.1 64-bit",
   "language": "python",
   "name": "python3"
  },
  "language_info": {
   "codemirror_mode": {
    "name": "ipython",
    "version": 3
   },
   "file_extension": ".py",
   "mimetype": "text/x-python",
   "name": "python",
   "nbconvert_exporter": "python",
   "pygments_lexer": "ipython3",
   "version": "3.10.1"
  },
  "orig_nbformat": 4
 },
 "nbformat": 4,
 "nbformat_minor": 2
}

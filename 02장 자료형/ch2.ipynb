{
 "cells": [
  {
   "cell_type": "markdown",
   "metadata": {},
   "source": [
    "##### 점프 투 파이썬\n",
    "---\n",
    "02장 연습문제"
   ]
  },
  {
   "cell_type": "markdown",
   "metadata": {},
   "source": [
    "> Q1    \n",
    "``` py\n",
    "    홍길동 씨의 과목별 점수는 다음과 같다. 홍길동 씨의 평균 점수를 구해 보자.\n",
    "\n",
    "    과목\t점수\n",
    "    국어\t80\n",
    "    영어\t75\n",
    "    수학\t55\n",
    "```"
   ]
  },
  {
   "cell_type": "code",
   "execution_count": 27,
   "metadata": {},
   "outputs": [
    {
     "name": "stdout",
     "output_type": "stream",
     "text": [
      "평균은  70.0 점 입니다\n"
     ]
    }
   ],
   "source": [
    "국어 = 80\n",
    "영어 = 75\n",
    "수학 = 55\n",
    "#  왼쪽     =     오른쪽 : 오른쪽에있는 연산을 모두하고 왼쪽에 대입한다.\n",
    "총점 = 국어 + 영어 + 수학\n",
    "평균 = 총점/3\n",
    "print(\"평균은 \",평균,\"점 입니다\")\n"
   ]
  },
  {
   "cell_type": "code",
   "execution_count": 28,
   "metadata": {},
   "outputs": [
    {
     "name": "stdout",
     "output_type": "stream",
     "text": [
      "avg =  70.0\n"
     ]
    }
   ],
   "source": [
    "# 국어점수\n",
    "kor = 80 \n",
    "# 영어점수\n",
    "eng = 75\n",
    "# 수학점수\n",
    "math = 55\n",
    "#총점\n",
    "total = kor + eng + math\n",
    "# 평균\n",
    "avg = total / 3\n",
    "print(\"avg = \",avg)"
   ]
  },
  {
   "cell_type": "code",
   "execution_count": 29,
   "metadata": {},
   "outputs": [
    {
     "name": "stdout",
     "output_type": "stream",
     "text": [
      "<class 'list'>\n",
      "avg = 70.0\n"
     ]
    }
   ],
   "source": [
    "# 리스트형\n",
    "print(type([]))\n",
    "subjects = [80, 75, 55]\n",
    "subjects[0] # 인덱싱 / 자바의 배열과 똑같이 접근할수 있다.\n",
    "\n",
    "total = subjects[0] + subjects[1] + subjects[2]\n",
    "\n",
    "average = total/3\n",
    "\n",
    "len(subjects) # 길이를 반환하는 함수\n",
    "\n",
    "avg = total/len(subjects) # 이렇게 길이를 반환하는 함수를 이용해서 식을 세울수도 있다.\n",
    "\n",
    "print(\"avg =\",avg)\n",
    "\n",
    "\n",
    "\n",
    "\n"
   ]
  },
  {
   "cell_type": "code",
   "execution_count": 30,
   "metadata": {},
   "outputs": [
    {
     "name": "stdout",
     "output_type": "stream",
     "text": [
      "avg= 61.0\n"
     ]
    }
   ],
   "source": [
    "subjects = [80, 75, 55, 82, 32, 42]\n",
    "#help(subjects) # 해당 객체에 대해 궁금할때 사용\n",
    "total = sum(subjects) # 파이썬 기본함수로써 해당값을 더하는대 사용함.\n",
    "avg = total / len(subjects)\n",
    "print(\"avg=\",avg)"
   ]
  },
  {
   "cell_type": "code",
   "execution_count": 31,
   "metadata": {},
   "outputs": [
    {
     "name": "stdout",
     "output_type": "stream",
     "text": [
      "70.0\n"
     ]
    }
   ],
   "source": [
    "{} # 딕셔너리라고 key:value 가 한쌍으로 묶인 자료형이다.\n",
    "subjects = {\"국어\":80, \"영어\":75, \"수학\":55}\n",
    "subjects[\"국어\"] # 인덱싱 방법은 해당 키값을 넣어주면 value에 접근할수있다.\n",
    "\n",
    "total = subjects[\"국어\"] + subjects[\"영어\"] + subjects[\"수학\"]\n",
    "\n",
    "avg = total / len(subjects)\n",
    "print(avg)\n",
    "a =0"
   ]
  },
  {
   "cell_type": "code",
   "execution_count": 32,
   "metadata": {},
   "outputs": [
    {
     "ename": "KeyboardInterrupt",
     "evalue": "Interrupted by user",
     "output_type": "error",
     "traceback": [
      "\u001b[1;31m---------------------------------------------------------------------------\u001b[0m",
      "\u001b[1;31mKeyboardInterrupt\u001b[0m                         Traceback (most recent call last)",
      "Input \u001b[1;32mIn [32]\u001b[0m, in \u001b[0;36m<module>\u001b[1;34m\u001b[0m\n\u001b[0;32m      1\u001b[0m \u001b[38;5;66;03m# 사용자로부터 이름과 성적을 입력받아 총점과 평균을 구해 출력하는\u001b[39;00m\n\u001b[0;32m      2\u001b[0m \u001b[38;5;66;03m# 프로그램을 작성하시오\u001b[39;00m\n\u001b[0;32m      3\u001b[0m \u001b[38;5;66;03m# input()함수를 사용해서 값을 입력받을수 있다.\u001b[39;00m\n\u001b[1;32m----> 4\u001b[0m name \u001b[38;5;241m=\u001b[39m \u001b[38;5;28;43minput\u001b[39;49m\u001b[43m(\u001b[49m\u001b[38;5;124;43m\"\u001b[39;49m\u001b[38;5;124;43m이름을 입력 하세요 : \u001b[39;49m\u001b[38;5;124;43m\"\u001b[39;49m\u001b[43m)\u001b[49m \n\u001b[0;32m      5\u001b[0m \u001b[38;5;28mprint\u001b[39m(\u001b[38;5;124m\"\u001b[39m\u001b[38;5;124m입력하신 이름은\u001b[39m\u001b[38;5;124m\"\u001b[39m,name,\u001b[38;5;124m\"\u001b[39m\u001b[38;5;124m입니다.\u001b[39m\u001b[38;5;124m\"\u001b[39m)\n\u001b[0;32m      6\u001b[0m \u001b[38;5;66;03m# 정수를 입력받기위해서는 int(input())로 형변환(?) 해주면 정수를 입력받을 수 있다.\u001b[39;00m\n",
      "File \u001b[1;32m~\\AppData\\Local\\Programs\\Python\\Python310\\lib\\site-packages\\ipykernel\\kernelbase.py:1044\u001b[0m, in \u001b[0;36mKernel.raw_input\u001b[1;34m(self, prompt)\u001b[0m\n\u001b[0;32m   1040\u001b[0m \u001b[38;5;28;01mif\u001b[39;00m \u001b[38;5;129;01mnot\u001b[39;00m \u001b[38;5;28mself\u001b[39m\u001b[38;5;241m.\u001b[39m_allow_stdin:\n\u001b[0;32m   1041\u001b[0m     \u001b[38;5;28;01mraise\u001b[39;00m StdinNotImplementedError(\n\u001b[0;32m   1042\u001b[0m         \u001b[38;5;124m\"\u001b[39m\u001b[38;5;124mraw_input was called, but this frontend does not support input requests.\u001b[39m\u001b[38;5;124m\"\u001b[39m\n\u001b[0;32m   1043\u001b[0m     )\n\u001b[1;32m-> 1044\u001b[0m \u001b[38;5;28;01mreturn\u001b[39;00m \u001b[38;5;28;43mself\u001b[39;49m\u001b[38;5;241;43m.\u001b[39;49m\u001b[43m_input_request\u001b[49m\u001b[43m(\u001b[49m\n\u001b[0;32m   1045\u001b[0m \u001b[43m    \u001b[49m\u001b[38;5;28;43mstr\u001b[39;49m\u001b[43m(\u001b[49m\u001b[43mprompt\u001b[49m\u001b[43m)\u001b[49m\u001b[43m,\u001b[49m\n\u001b[0;32m   1046\u001b[0m \u001b[43m    \u001b[49m\u001b[38;5;28;43mself\u001b[39;49m\u001b[38;5;241;43m.\u001b[39;49m\u001b[43m_parent_ident\u001b[49m\u001b[43m[\u001b[49m\u001b[38;5;124;43m\"\u001b[39;49m\u001b[38;5;124;43mshell\u001b[39;49m\u001b[38;5;124;43m\"\u001b[39;49m\u001b[43m]\u001b[49m\u001b[43m,\u001b[49m\n\u001b[0;32m   1047\u001b[0m \u001b[43m    \u001b[49m\u001b[38;5;28;43mself\u001b[39;49m\u001b[38;5;241;43m.\u001b[39;49m\u001b[43mget_parent\u001b[49m\u001b[43m(\u001b[49m\u001b[38;5;124;43m\"\u001b[39;49m\u001b[38;5;124;43mshell\u001b[39;49m\u001b[38;5;124;43m\"\u001b[39;49m\u001b[43m)\u001b[49m\u001b[43m,\u001b[49m\n\u001b[0;32m   1048\u001b[0m \u001b[43m    \u001b[49m\u001b[43mpassword\u001b[49m\u001b[38;5;241;43m=\u001b[39;49m\u001b[38;5;28;43;01mFalse\u001b[39;49;00m\u001b[43m,\u001b[49m\n\u001b[0;32m   1049\u001b[0m \u001b[43m\u001b[49m\u001b[43m)\u001b[49m\n",
      "File \u001b[1;32m~\\AppData\\Local\\Programs\\Python\\Python310\\lib\\site-packages\\ipykernel\\kernelbase.py:1089\u001b[0m, in \u001b[0;36mKernel._input_request\u001b[1;34m(self, prompt, ident, parent, password)\u001b[0m\n\u001b[0;32m   1086\u001b[0m             \u001b[38;5;28;01mbreak\u001b[39;00m\n\u001b[0;32m   1087\u001b[0m \u001b[38;5;28;01mexcept\u001b[39;00m \u001b[38;5;167;01mKeyboardInterrupt\u001b[39;00m:\n\u001b[0;32m   1088\u001b[0m     \u001b[38;5;66;03m# re-raise KeyboardInterrupt, to truncate traceback\u001b[39;00m\n\u001b[1;32m-> 1089\u001b[0m     \u001b[38;5;28;01mraise\u001b[39;00m \u001b[38;5;167;01mKeyboardInterrupt\u001b[39;00m(\u001b[38;5;124m\"\u001b[39m\u001b[38;5;124mInterrupted by user\u001b[39m\u001b[38;5;124m\"\u001b[39m) \u001b[38;5;28;01mfrom\u001b[39;00m \u001b[38;5;28mNone\u001b[39m\n\u001b[0;32m   1090\u001b[0m \u001b[38;5;28;01mexcept\u001b[39;00m \u001b[38;5;167;01mException\u001b[39;00m:\n\u001b[0;32m   1091\u001b[0m     \u001b[38;5;28mself\u001b[39m\u001b[38;5;241m.\u001b[39mlog\u001b[38;5;241m.\u001b[39mwarning(\u001b[38;5;124m\"\u001b[39m\u001b[38;5;124mInvalid Message:\u001b[39m\u001b[38;5;124m\"\u001b[39m, exc_info\u001b[38;5;241m=\u001b[39m\u001b[38;5;28;01mTrue\u001b[39;00m)\n",
      "\u001b[1;31mKeyboardInterrupt\u001b[0m: Interrupted by user"
     ]
    }
   ],
   "source": [
    "# 사용자로부터 이름과 성적을 입력받아 총점과 평균을 구해 출력하는\n",
    "# 프로그램을 작성하시오\n",
    "# input()함수를 사용해서 값을 입력받을수 있다.\n",
    "name = input(\"이름을 입력 하세요 : \") \n",
    "print(\"입력하신 이름은\",name,\"입니다.\")\n",
    "# 정수를 입력받기위해서는 int(input())로 형변환(?) 해주면 정수를 입력받을 수 있다.\n",
    "kor = int(input(\"국어점수를 입력하세요: \"))\n",
    "eng = int(input(\"영어점수를 입력하세요: \"))\n",
    "math = int(input(\"수학점수를 입력하세요: \"))\n",
    "\n",
    "total = kor+eng+math #total = int(kor)+int(eng)+int(math) 문제는 이렇게 해결해도됨.\n",
    "avg = total/3\n",
    "print(name,\"님의 총점=\",total,\"평균=\",avg,\"입니다\")\n",
    "print(\"%s님의 총점= %d점 평균= %.2f점입니다\" % (name,total,avg)) \n",
    "print(\"{}님의 총점= {}점 평균= {}점\".format(name,total,avg))\n",
    "print(f\"{name}님의 총점= {total}점 평균= {avg}점\")\n",
    "\n"
   ]
  },
  {
   "cell_type": "markdown",
   "metadata": {},
   "source": [
    "> Q2   \n",
    "``` py\n",
    "    자연수 13이 홀수인지 짝수인지 판별할 수 있는 방법에 대해 말해 보자.\n",
    "```"
   ]
  },
  {
   "cell_type": "code",
   "execution_count": null,
   "metadata": {},
   "outputs": [
    {
     "name": "stdout",
     "output_type": "stream",
     "text": [
      "짝수\n"
     ]
    }
   ],
   "source": [
    "# 짝수인가 홀수인가 판단 if\n",
    "# 02468\n",
    "# 13579\n",
    "# 2n+1, 2n-1\n",
    "\n",
    "number = int(input(\"숫자를 입력:\"))\n",
    "\n",
    "#if number[-1] in \"02468\":\n",
    "#    print(\"짝수\")\n",
    "#else:\n",
    "#    print(\"홀수\")\n",
    "\n",
    "if number % 2 != 0:\n",
    "    print(\"홀수\")\n",
    "else:\n",
    "    print(\"짝수\")\n",
    "\n"
   ]
  },
  {
   "cell_type": "code",
   "execution_count": null,
   "metadata": {},
   "outputs": [
    {
     "data": {
      "text/plain": [
       "True"
      ]
     },
     "execution_count": 26,
     "metadata": {},
     "output_type": "execute_result"
    }
   ],
   "source": [
    "# and연산은 어느하나라도 거짓(False) 면 False를 반환한다. \n",
    "# 컴파일러가 and연산일때 맨 앞 연산이 False가 나오면 뒤 조건은 안보고 바로 넘어간다\n",
    "0 < 3 and True and True and True and True and False and True and True\n",
    "# or연산은 어느하나라도 참(True) 면 True를 반환한다.\n",
    "100 < 200 or False or False or False or False or False or False or False or True"
   ]
  },
  {
   "cell_type": "markdown",
   "metadata": {},
   "source": [
    "> Q3   \n",
    "``` py   \n",
    "    홍길동 씨의 주민등록번호는 881120-1068234이다.  \n",
    "    홍길동 씨의 주민등록번호를 연월일(YYYYMMDD) 부분과 그 뒤의 숫자 부분으로 나누어 출력해 보자.\n",
    "```"
   ]
  },
  {
   "cell_type": "code",
   "execution_count": 36,
   "metadata": {},
   "outputs": [
    {
     "name": "stdout",
     "output_type": "stream",
     "text": [
      "881120 \n",
      " 1068234\n",
      "88년 11월 20일 생입니다.\n"
     ]
    }
   ],
   "source": [
    "hong = \"881120-1068234\"\n",
    "print(hong[:6],\"\\n\",hong[7:])\n",
    "print(\"%s년 %s월 %s일 생입니다.\" % (hong[:2],hong[2:4],hong[4:6]))"
   ]
  },
  {
   "cell_type": "markdown",
   "metadata": {},
   "source": [
    "> Q4   \n",
    "``` py   \n",
    "    주민등록번호 뒷자리의 맨 첫 번째 숫자는 성별을 나타낸다.    \n",
    "    주민등록번호에서 성별을 나타내는 숫자를 출력해 보자.   \n",
    "```"
   ]
  },
  {
   "cell_type": "code",
   "execution_count": 49,
   "metadata": {},
   "outputs": [
    {
     "name": "stdout",
     "output_type": "stream",
     "text": [
      "당신의 출생년도는 1969년\n",
      "당신의 나이는 54세\n",
      "여성입니다\n"
     ]
    }
   ],
   "source": [
    "# 주민번호(13자리)를 입력받아 출생년도 나이 성별을 출력해주는 프로그램을 작성하시오.\n",
    "\n",
    "# 사용자 입력받기\n",
    "\n",
    "# \n",
    "# print(pin)\n",
    "\n",
    "# 사용자 주민번호 입력받기\n",
    "pin = input(\"주민번호 13 자리 입력: \")\n",
    "\n",
    "# 출생년도 추출\n",
    "yyyymmdd = pin[:6]\n",
    "\n",
    "# 성별 추출\n",
    "gender = pin[6]\n",
    "\n",
    "# 출생년도\n",
    "year =\"\"\n",
    "\n",
    "# 나이\n",
    "age = 0\n",
    "\n",
    "if gender in \"12\":\n",
    "    year = '19'+yyyymmdd[:2]\n",
    "elif gender in \"34\":\n",
    "    year = '20'+yyyymmdd[:2]\n",
    "\n",
    "age = 2022 - int(year) + 1\n",
    "\n",
    "print(\"당신의 출생년도는 {}년\".format(year))\n",
    "print(\"당신의 나이는 {}세\".format(age))\n",
    "\n",
    "\n",
    "if int(gender) % 2 == 0:\n",
    "    print(\"여성입니다\")\n",
    "else:\n",
    "    print(\"남성입니다\")\n"
   ]
  },
  {
   "cell_type": "code",
   "execution_count": 47,
   "metadata": {},
   "outputs": [
    {
     "name": "stdout",
     "output_type": "stream",
     "text": [
      "성별은 남자이며 나이는 만25세 97년 09월 24일생 입니다.\n"
     ]
    }
   ],
   "source": [
    "gen = \"\"\n",
    "pin = input(\"주민등록번호 13자리 입력: \")\n",
    "if pin[6] == \"1\" or pin[6] == \"2\":\n",
    "    age = 2022 - int(\"19\"+pin[:1+1])\n",
    "else:\n",
    "    age = 2022 - int(\"20\"+pin[:1+1])\n",
    "\n",
    "\n",
    "if pin[6] == \"1\" or pin[6] == \"3\": \n",
    "    gen = \"남자\"\n",
    "else:\n",
    "    gen = \"여자\"\n",
    "\n",
    "print(\"성별은 %s이며 나이는 만%d세 %s년 %s월 %s일생 입니다.\" % (gen,age,pin[:2],pin[2:4],pin[4:6]))"
   ]
  },
  {
   "cell_type": "markdown",
   "metadata": {},
   "source": [
    "> Q5   \n",
    "``` py\n",
    "    다음과 같은 문자열 a:b:c:d가 있다.    \n",
    "    문자열의 replace 함수를 사용하여 a#b#c#d로 바꿔서 출력해 보자.   \n",
    "```"
   ]
  },
  {
   "cell_type": "code",
   "execution_count": 76,
   "metadata": {},
   "outputs": [
    {
     "name": "stdout",
     "output_type": "stream",
     "text": [
      "a:b:c:d\n",
      "a#b#c#d\n",
      "Java Programming\n",
      "abcd abcd abcd\n",
      "a b c d "
     ]
    }
   ],
   "source": [
    "text = \"a:b:c:d\"\n",
    "print(text)\n",
    "print(\"a:b:c:d\".replace(\":\",\"#\"))\n",
    "# 특정 문자를 새로운 값으로 변경시킨다\n",
    "\n",
    "tt = \"12:03:21\"\n",
    "tt.replace(\":\",\"/\")\n",
    "\n",
    "# 응용\n",
    "te = \"Python Programming\"\n",
    "print(te.replace(\"Python\",\"Java\"))\n",
    "\n",
    "strs = \"abcd\"\n",
    "print(strs, end=\" \")# print에는 디폴트로 end='/n'이 있어 자동으로 줄을바꾼다 이때 end=\" \"해주면 개행을 하지않고\n",
    "# 공백을 만든다\n",
    "print(strs, end=\" \")\n",
    "print(strs)\n",
    "\n",
    "for c in strs:\n",
    "    print(c, end=\" \")\n",
    "\n",
    "\n"
   ]
  },
  {
   "cell_type": "markdown",
   "metadata": {},
   "source": [
    "> Q6.   \n",
    "``` py   \n",
    "    [1, 3, 5, 4, 2]라는 리스트를 [5, 4, 3, 2, 1]로 만들어보자.   \n",
    "```"
   ]
  },
  {
   "cell_type": "code",
   "execution_count": null,
   "metadata": {},
   "outputs": [],
   "source": []
  },
  {
   "cell_type": "code",
   "execution_count": 82,
   "metadata": {},
   "outputs": [
    {
     "name": "stdout",
     "output_type": "stream",
     "text": [
      "[20, 30, 40, 50, 60, 90, 100]\n",
      "[100, 90, 60, 50, 40, 30, 20]\n"
     ]
    },
    {
     "data": {
      "text/plain": [
       "True"
      ]
     },
     "execution_count": 82,
     "metadata": {},
     "output_type": "execute_result"
    }
   ],
   "source": [
    "list = [100,30,40,20,50,90,60]\n",
    "list.sort() # .sort() : 리스트값을 정렬해주는 함수\n",
    "# 디폴트 매게변수 reverse=False 를 갖고있다 이것때문에 기본적으로 오름차순 정렬을하고\n",
    "# 매게변수 resverse=True 로 바꾸면 내림차순 정렬을한다. -> .sort(reverse=True)\n",
    "print(list)\n",
    "list.sort(reverse=True)\n",
    "print(list)\n",
    "list[0] == max(list) # max() 리스트에서 가장 큰 값을 찾아준다"
   ]
  },
  {
   "cell_type": "markdown",
   "metadata": {},
   "source": [
    "> Q7.   \n",
    "``` py   \n",
    "    ['Life', 'is', 'too', 'short'] 라는 리스트를 Life is too short라는 문자열로 만들어 출력해 보자.   \n",
    "```"
   ]
  },
  {
   "cell_type": "code",
   "execution_count": 93,
   "metadata": {},
   "outputs": [
    {
     "name": "stdout",
     "output_type": "stream",
     "text": [
      "Life is too short\n"
     ]
    }
   ],
   "source": [
    "old_text = ['Life', 'is', 'too', 'short']\n",
    "# new_text = old_text[0] +\" \"+ old_text[1] +\" \"+ old_text[2] +\" \"+ old_text[3] \n",
    "#new_text = \"\"\n",
    "#for i in old_text:\n",
    "#    print(new_text)\n",
    "#    new_text += i+\" \"\n",
    "#print(new_text)\n",
    "\n",
    "new_text = \"{} {} {} {}\".format(old_text[0],old_text[1],old_text[2],old_text[3])\n",
    "print(new_text)"
   ]
  },
  {
   "cell_type": "markdown",
   "metadata": {},
   "source": [
    "> Q8.   \n",
    "``` py   \n",
    "    (1,2,3)이라는 튜플에 4라는 값을 추가하여 (1,2,3,4)처럼 만들어 출력해 보자.   \n",
    "```"
   ]
  },
  {
   "cell_type": "code",
   "execution_count": 121,
   "metadata": {},
   "outputs": [
    {
     "name": "stdout",
     "output_type": "stream",
     "text": [
      "li = [100, 2, 3]\n",
      "tu2= (1, 2, 3, 4)\n"
     ]
    }
   ],
   "source": [
    "objects = ['a',1,True,[100,['x','y']]]\n",
    "objects[3][1][1] # 2차원배열\n",
    "\n",
    "li = [1,2,3]\n",
    "tu = (1,2,3)\n",
    "\n",
    "li[0] = 100\n",
    "print(\"li =\",li)\n",
    "\n",
    "li2 = [1,2,3,4]\n",
    "tu2 = tuple(li2) # 튜블 형변환\n",
    "print(\"tu2=\",tu2)\n"
   ]
  },
  {
   "cell_type": "markdown",
   "metadata": {},
   "source": [
    "> Q9.   \n",
    "``` py   \n",
    "    다음과 같은 딕셔너리 a가 있다. 다음 중 오류가 발생하는 경우는 어떤 경우인가?   \n",
    "    그리고 그 이유를 설명해 보자.   \n",
    "    >>> a = dict()   \n",
    "    >>> a   \n",
    "    {}   \n",
    "\n",
    "    다음 중 오류가 발생하는 경우를 고르고, 그 이유를 설명해 보자.   \n",
    "\n",
    "    1. a['name'] = 'python'   \n",
    "    2. a[('a',)] = 'python'   \n",
    "    3. a[[1]] = 'python'   \n",
    "    4. a[250] = 'python'   \n",
    "```"
   ]
  },
  {
   "cell_type": "code",
   "execution_count": null,
   "metadata": {},
   "outputs": [],
   "source": [
    "a = dict()\n",
    "a['name'] = 'python'\n",
    "print(a)\n",
    "a[('a',)] = 'python'\n",
    "print(a)\n",
    "a[250] = 'python' \n",
    "print(a)\n",
    "# a[[1]] = 'python' # 변경이가능한 자료형은 딕셔너리 키로 사용할수 없다\n",
    "print(a)"
   ]
  },
  {
   "cell_type": "code",
   "execution_count": 132,
   "metadata": {},
   "outputs": [
    {
     "ename": "TypeError",
     "evalue": "'str' object does not support item assignment",
     "output_type": "error",
     "traceback": [
      "\u001b[1;31m---------------------------------------------------------------------------\u001b[0m",
      "\u001b[1;31mTypeError\u001b[0m                                 Traceback (most recent call last)",
      "Input \u001b[1;32mIn [132]\u001b[0m, in \u001b[0;36m<module>\u001b[1;34m\u001b[0m\n\u001b[0;32m      1\u001b[0m text \u001b[38;5;241m=\u001b[39m \u001b[38;5;124m\"\u001b[39m\u001b[38;5;124mpython\u001b[39m\u001b[38;5;124m\"\u001b[39m\n\u001b[1;32m----> 2\u001b[0m text[\u001b[38;5;241m0\u001b[39m] \u001b[38;5;241m=\u001b[39m \u001b[38;5;124m\"\u001b[39m\u001b[38;5;124mj\u001b[39m\u001b[38;5;124m\"\u001b[39m\n",
      "\u001b[1;31mTypeError\u001b[0m: 'str' object does not support item assignment"
     ]
    }
   ],
   "source": [
    "text = \"python\"\n",
    "text[0] = \"j\""
   ]
  },
  {
   "cell_type": "markdown",
   "metadata": {},
   "source": [
    "> Q10   \n",
    "``` py   \n",
    "    딕셔너리 a에서 'B'에 해당되는 값을 추출해 보자.   \n",
    "\n",
    "    >>> a = {'A':90, 'B':80, 'C':70}   \n",
    "    ※ 딕셔너리의 pop 함수를 사용해 보자.   \n",
    "```"
   ]
  },
  {
   "cell_type": "code",
   "execution_count": 161,
   "metadata": {},
   "outputs": [
    {
     "name": "stdout",
     "output_type": "stream",
     "text": [
      "80\n",
      "{'A': 90, 'C': 70}\n"
     ]
    }
   ],
   "source": [
    "a = {'A':90, 'B':80, 'C':70}\n",
    "print(a.pop('B')) #  pop를 하고나면 더이상 A 딕셔너리에서 A를 찾을수 없음\n",
    "print(a)"
   ]
  },
  {
   "cell_type": "markdown",
   "metadata": {},
   "source": [
    "> Q11   \n",
    "``` py   \n",
    "    a 리스트에서 중복 숫자를 제거해 보자.   \n",
    "\n",
    "    >>> a = [1, 1, 1, 2, 2, 3, 3, 3, 4, 4, 5]    \n",
    "    ※ 집합 자료형의 요솟값이 중복될 수 없다는 특징을 사용해 보자.    \n",
    "```"
   ]
  },
  {
   "cell_type": "code",
   "execution_count": 170,
   "metadata": {},
   "outputs": [
    {
     "name": "stdout",
     "output_type": "stream",
     "text": [
      "[1, 1, 1, 2, 2, 3, 3, 3, 4, 4, 5]\n",
      "{1, 2, 3, 4, 5}\n"
     ]
    }
   ],
   "source": [
    "[1,2,3] # 리스트\n",
    "(1,2,3) # 튜플\n",
    "{'a':1,'b':2,'c':3} # 딕셔너리\n",
    "{1,} # set \n",
    "\n",
    "\n",
    "\n",
    "a = [1, 1, 1, 2, 2, 3, 3, 3, 4, 4, 5]\n",
    "print(a)\n",
    "a2 = set(a)\n",
    "print(a2)\n",
    "\n",
    "#se = {1,2,3,3,1,2} # 키 벨류구조로하면 딕셔너리가 되지만 이렇게 하면 집합자료형이 된다.\n",
    "#print(se)"
   ]
  },
  {
   "cell_type": "markdown",
   "metadata": {},
   "source": [
    "> Q12   \n",
    "``` py   \n",
    "    파이썬은 다음처럼 동일한 값에 여러 개의 변수를 선언할 수 있다.    \n",
    "    다음과 같이 a, b 변수를 선언한 후 a의 두 번째 요솟값을 변경하면 b 값은 어떻게 될까?    \n",
    "    그리고 이런 결과가 오는 이유에 대해 설명해 보자.   \n",
    "\n",
    "    >>> a = b = [1, 2, 3]   \n",
    "    >>> a[1] = 4   \n",
    "    >>> print(b)   \n",
    "```"
   ]
  },
  {
   "cell_type": "code",
   "execution_count": 173,
   "metadata": {},
   "outputs": [
    {
     "name": "stdout",
     "output_type": "stream",
     "text": [
      "[1, 4, 3]\n",
      "2629916152384\n"
     ]
    }
   ],
   "source": [
    "a = b = [1, 2, 3]   \n",
    "a[1] = 4   \n",
    "print(b)\n",
    "\n",
    "print(id(a)) #id(): 객체를 식별하기위한 고유 id값을 출력해준다.\n",
    "                # 자바에서는 hashCode()라는 함수가 있음"
   ]
  }
 ],
 "metadata": {
  "interpreter": {
   "hash": "4aa7a001941c8b447200068b1d71a3924cf04f02fe096f0aa27a7230a4a7f943"
  },
  "kernelspec": {
   "display_name": "Python 3.10.1 64-bit",
   "language": "python",
   "name": "python3"
  },
  "language_info": {
   "codemirror_mode": {
    "name": "ipython",
    "version": 3
   },
   "file_extension": ".py",
   "mimetype": "text/x-python",
   "name": "python",
   "nbconvert_exporter": "python",
   "pygments_lexer": "ipython3",
   "version": "3.10.1"
  },
  "orig_nbformat": 4
 },
 "nbformat": 4,
 "nbformat_minor": 2
}

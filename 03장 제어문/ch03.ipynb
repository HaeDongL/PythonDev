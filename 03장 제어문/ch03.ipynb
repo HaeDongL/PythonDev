{
 "cells": [
  {
   "cell_type": "markdown",
   "metadata": {},
   "source": [
    "#### 점프투파이썬\n",
    "---\n",
    "03장 연습문제"
   ]
  },
  {
   "cell_type": "markdown",
   "metadata": {},
   "source": [
    "> Q1\n",
    "``` py\n",
    "    다음 코드의 결괏값은 무엇일까?\n",
    "\n",
    "    a = \"Life is too short, you need python\"\n",
    "\n",
    "    if \"wife\" in a: print(\"wife\")\n",
    "    elif \"python\" in a and \"you\" not in a: print(\"python\")\n",
    "    elif \"shirt\" not in a: print(\"shirt\")\n",
    "    elif \"need\" in a: print(\"need\")\n",
    "    else: print(\"none\")\n",
    "```"
   ]
  },
  {
   "cell_type": "code",
   "execution_count": null,
   "metadata": {},
   "outputs": [],
   "source": [
    "[]\n",
    "() # 리스트와 튜블은 비슷하지만 튜블은 상수와같은 개념으로 한번 값을 입력하면 변경이 불가능하다.\n",
    "{\"Key\":\"Value\"} # 키 밸류 구조로 하면 딕셔너리 값 하나씩만 넣으면 set()자료형이된다.\n",
    "{1,2,3} # 이렇게 생긴게 set()\n"
   ]
  },
  {
   "cell_type": "code",
   "execution_count": 2,
   "metadata": {},
   "outputs": [
    {
     "name": "stdout",
     "output_type": "stream",
     "text": [
      "shirt\n"
     ]
    }
   ],
   "source": [
    "a = \"Life is too short, you need python\"\n",
    "\n",
    "if \"wife\" in a: \n",
    "    print(\"wife\")\n",
    "elif \"python\" in a and \"you\" not in a: \n",
    "    print(\"python\")\n",
    "elif \"shirt\" not in a: \n",
    "    print(\"shirt\")\n",
    "elif \"need\" in a: \n",
    "    print(\"need\")\n",
    "else: print(\"none\")"
   ]
  },
  {
   "cell_type": "markdown",
   "metadata": {},
   "source": [
    "> Q2\n",
    "``` py\n",
    "    while문을 사용해 1부터 1000까지의 자연수 중 3의 배수의 합을 구해 보자.\n",
    "```"
   ]
  },
  {
   "cell_type": "code",
   "execution_count": 20,
   "metadata": {},
   "outputs": [
    {
     "name": "stdout",
     "output_type": "stream",
     "text": [
      "1 ~ 1000까지의 3배수의 합 : 166833\n",
      "1 ~ 1000까지의 3배수의 합 : 166833\n",
      "1 ~ 1000까지의 3배수의 합 : 166833\n"
     ]
    }
   ],
   "source": [
    "del(sum)\n",
    "i=0\n",
    "total1 = 0\n",
    "total2 = 0\n",
    "while i <= 1000:\n",
    "    if i % 3 == 0:\n",
    "        total1 += i\n",
    "    i += 1\n",
    "print(\"1 ~ 1000까지의 3배수의 합 : %d\"%(total1))\n",
    "for j in range(1000+1):\n",
    "    if i % 3 == 0:\n",
    "        total2 += i\n",
    "print(\"1 ~ 1000까지의 3배수의 합 : %d\"%(total1))\n",
    "\n",
    "# 리스트 내포(list comprehention) : [i for~ if~]\n",
    "li = [i for i in range(1, 1000 + 1) if i % 3 == 0]\n",
    "print(\"1 ~ 1000까지의 3배수의 합 : %d\"%(sum(li))) \n",
    "# 변수를 예약어로 선언하면 충돌이 나기때문에 피해야하며\n",
    "# 한번이라도 불러서 계속 충돌이 난다면 해당 예약어를 del(예약어) 해서 지워주고 다시한다.\n",
    "\n",
    "# range() 클래스가 있는데 해당 클래스에 값을 입력하면 0 ~ 입력한 값의 리스트값을 돌려준다. 1,5 하면 1 ~ 5\n",
    "# 1 ~ 5를 준다.\n",
    "\n",
    "# for k in range(4,100):\n",
    "#     print(k,end=\" \")"
   ]
  },
  {
   "cell_type": "code",
   "execution_count": 35,
   "metadata": {},
   "outputs": [
    {
     "name": "stdout",
     "output_type": "stream",
     "text": [
      "[1, 3, 5, 7, 9]\n"
     ]
    },
    {
     "data": {
      "text/plain": [
       "1"
      ]
     },
     "execution_count": 35,
     "metadata": {},
     "output_type": "execute_result"
    }
   ],
   "source": [
    "print([i for i in range(1,10+1) if i%2!=0])"
   ]
  },
  {
   "cell_type": "markdown",
   "metadata": {},
   "source": [
    "> Q3\n",
    "``` py\n",
    "    while문을 사용하여 다음과 같이 별(*)을 표시하는 프로그램을 작성해 보자.\n",
    "\n",
    "    *\n",
    "    **\n",
    "    ***\n",
    "    ****\n",
    "    *****\n",
    "```"
   ]
  },
  {
   "cell_type": "code",
   "execution_count": 48,
   "metadata": {},
   "outputs": [
    {
     "name": "stdout",
     "output_type": "stream",
     "text": [
      "*\n",
      "**\n",
      "***\n",
      "****\n",
      "*****\n"
     ]
    }
   ],
   "source": [
    "# 파이썬은 자바처럼 중첩 for문을 안해도됨\n",
    "i = 0\n",
    "while i<5:\n",
    "   print(\"*\"*(i+1))\n",
    "   i+=1"
   ]
  },
  {
   "cell_type": "markdown",
   "metadata": {},
   "source": [
    "> Q4\n",
    "``` py\n",
    "    for문을 사용해 1부터 100까지의 숫자를 출력해 보자.\n",
    "```"
   ]
  },
  {
   "cell_type": "code",
   "execution_count": 93,
   "metadata": {},
   "outputs": [
    {
     "name": "stdout",
     "output_type": "stream",
     "text": [
      "1 2 3 4 5 6 7 8 9 10 11 12 13 14 15 16 17 18 19 20 21 22 23 24 25 26 27 28 29 30 31 32 33 34 35 36 37 38 39 40 41 42 43 44 45 46 47 48 49 50 51 52 53 54 55 56 57 58 59 60 61 62 63 64 65 66 67 68 69 70 71 72 73 74 75 76 77 78 79 80 81 82 83 84 85 86 87 88 89 90 91 92 93 94 95 96 97 98 99 100 010-1234-5678\n"
     ]
    }
   ],
   "source": [
    "for i in range(1,100+1):\n",
    "    print(i,end=\" \")\n",
    "\n",
    "print(\"010\", \"1234\", \"5678\", sep=\"-\") # sep는 문자하나가 끝나면 뒤에값이 붙고 end는 코드 한줄이끝날때 붙는다"
   ]
  },
  {
   "cell_type": "markdown",
   "metadata": {},
   "source": [
    "> Q5\n",
    "``` py\n",
    "    A 학급에 총 10명의 학생이 있다. 이 학생들의 중간고사 점수는 다음과 같다.\n",
    "    [70, 60, 55, 75, 95, 90, 80, 80, 85, 100]\n",
    "    for문을 사용하여 A 학급의 평균 점수를 구해 보자.\n",
    "```"
   ]
  },
  {
   "cell_type": "code",
   "execution_count": 97,
   "metadata": {},
   "outputs": [
    {
     "name": "stdout",
     "output_type": "stream",
     "text": [
      "평균 79.00\n",
      "평균 79.00\n"
     ]
    }
   ],
   "source": [
    "\n",
    "score = [70, 60, 55, 75, 95, 90, 80, 80, 85, 100]\n",
    "total1 = 0\n",
    "total2 = 0\n",
    "for i in range(len(score)): # 수십 수백번을 내 생각대로 돌릴려면 range list객체를 돌릴거면 list를 넣으면된다.\n",
    "    total1 += score[i]\n",
    "average = total1 / len(score)\n",
    "print(\"평균 %.2f\"%(average))\n",
    "for i in score:\n",
    "    total2 += i\n",
    "average2 = total2/len(score)\n",
    "print(\"평균 %.2f\"%(average))\n"
   ]
  },
  {
   "cell_type": "markdown",
   "metadata": {},
   "source": [
    "> Q6\n",
    "``` py\n",
    "    리스트 중에서 홀수에만 2를 곱하여 저장하는 다음 코드가 있다.\n",
    "\n",
    "    numbers = [1, 2, 3, 4, 5]\n",
    "    result = []\n",
    "    for n in numbers:\n",
    "        if n % 2 == 1:\n",
    "            result.append(n*2)\n",
    "    위 코드를 리스트 내포(list comprehension)를 사용하여 표현해 보자.\n",
    "```"
   ]
  },
  {
   "cell_type": "code",
   "execution_count": 130,
   "metadata": {},
   "outputs": [
    {
     "name": "stdout",
     "output_type": "stream",
     "text": [
      "result = [2, 6, 10]\n"
     ]
    }
   ],
   "source": [
    "\n",
    "li = [i for i in range(1, 1000 + 1) if i % 3 == 0]\n",
    "\n",
    "numbers = [1, 2, 3, 4, 5]\n",
    "result = [i*2 for i in numbers if i%2 != 0]\n",
    "\n",
    "# 리스트 내포 변수 = [i for i in 리스트혹은 range() if 조건...] 그냥 제어문을 한줄로 : 빼고 순서대로나열한뒤\n",
    "# 맨앞에 i(조건을 만족하고 값을 받을 변수 for i in 의 i)를 넣으면됨\n",
    "\n",
    "print(\"result =\",result)"
   ]
  }
 ],
 "metadata": {
  "interpreter": {
   "hash": "4aa7a001941c8b447200068b1d71a3924cf04f02fe096f0aa27a7230a4a7f943"
  },
  "kernelspec": {
   "display_name": "Python 3.10.1 64-bit",
   "language": "python",
   "name": "python3"
  },
  "language_info": {
   "codemirror_mode": {
    "name": "ipython",
    "version": 3
   },
   "file_extension": ".py",
   "mimetype": "text/x-python",
   "name": "python",
   "nbconvert_exporter": "python",
   "pygments_lexer": "ipython3",
   "version": "3.10.1"
  },
  "orig_nbformat": 4
 },
 "nbformat": 4,
 "nbformat_minor": 2
}

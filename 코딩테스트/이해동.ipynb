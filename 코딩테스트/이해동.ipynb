{
 "cells": [
  {
   "cell_type": "markdown",
   "metadata": {},
   "source": [
    "---\n",
    "## [ 파이썬 기초 코딩테스트 ]\n",
    "---\n",
    "과정명   : Python 기초특강\n",
    "&nbsp;&nbsp;&nbsp;훈련기간 : 2022.01.17 ~ 2022.01.19  \n",
    "교과목   : Python 기초특강\n",
    "&nbsp;&nbsp;&nbsp;교/강사  : 정용관   \n",
    "\n",
    "#### __학습자명__ : 이해동 &nbsp;&nbsp;&nbsp;&nbsp;&nbsp; __점수__ : 100\n",
    "---"
   ]
  },
  {
   "cell_type": "markdown",
   "metadata": {},
   "source": [
    "> .  \n",
    "> __문제 01)__\n",
    "> ``` py\n",
    "> \"Hello world\" 문자열을 출력하는 실행문을 작성하시오.(5점)\n",
    "> ``` \n",
    "> .  "
   ]
  },
  {
   "cell_type": "code",
   "execution_count": 1,
   "metadata": {},
   "outputs": [
    {
     "name": "stdout",
     "output_type": "stream",
     "text": [
      "Hello world\n"
     ]
    }
   ],
   "source": [
    "print(\"Hello world\")"
   ]
  },
  {
   "cell_type": "markdown",
   "metadata": {},
   "source": [
    "---"
   ]
  },
  {
   "cell_type": "markdown",
   "metadata": {},
   "source": [
    "> .  \n",
    "> __문제 02)__\n",
    "> ``` py\n",
    "> 다음 코드의 구문 오류(SyntaxError) 원인을 찾아 바르게 수정하시오.(5점)\n",
    ">     \n",
    "> int score = 60;\n",
    "> if (score >= 60){\n",
    "> print(\"합격입니다.\")}\n",
    "> else\n",
    "> print(\"불합격입니다.\")\n",
    "> ```\n",
    "> .  "
   ]
  },
  {
   "cell_type": "code",
   "execution_count": 2,
   "metadata": {},
   "outputs": [
    {
     "name": "stdout",
     "output_type": "stream",
     "text": [
      "합격입니다.\n"
     ]
    }
   ],
   "source": [
    "score = 60\n",
    "if score >= 60:\n",
    "    print(\"합격입니다.\")\n",
    "else:\n",
    "    print(\"불합격입니다.\")"
   ]
  },
  {
   "cell_type": "markdown",
   "metadata": {},
   "source": [
    "---"
   ]
  },
  {
   "cell_type": "markdown",
   "metadata": {},
   "source": [
    "> .  \n",
    "> __문제 03)__\n",
    "> ``` py\n",
    "> 아래의 코드에서 변수에 데이터(값)를 할당하고, 변수 이름으로 데이터 타입을 확인하고자 한다.\n",
    "> 코드를 완성하시오.(5점)    \n",
    ">\n",
    "> value = 123   \n",
    "> print(?)      \n",
    ">\n",
    "> [실행결과]   \n",
    "> <class 'int'>\n",
    "> ```\n",
    "> .  "
   ]
  },
  {
   "cell_type": "code",
   "execution_count": 3,
   "metadata": {},
   "outputs": [
    {
     "name": "stdout",
     "output_type": "stream",
     "text": [
      "<class 'int'>\n"
     ]
    }
   ],
   "source": [
    "value = 123\n",
    "print(type(value))"
   ]
  },
  {
   "cell_type": "markdown",
   "metadata": {},
   "source": [
    "---"
   ]
  },
  {
   "cell_type": "markdown",
   "metadata": {},
   "source": [
    "> .  \n",
    "> __문제 04)__   \n",
    "> ``` py\n",
    "> 다음 코드를 실행했을 때 출력 결과가 '2021/12/28 11:43:59'로 나오도록   \n",
    "> 아래의 print()문을 완성하시오.(5점)     \n",
    ">\n",
    "> year = 2021; month = 12; day = 28;    \n",
    "> hour = 11; min = 43; sec = 59   \n",
    "> \n",
    "> print(year, month, day, sep=?, end=?)   \n",
    "> print(hour, min, sec, sep=?)   \n",
    "> ```\n",
    "> .  "
   ]
  },
  {
   "cell_type": "code",
   "execution_count": 4,
   "metadata": {},
   "outputs": [
    {
     "name": "stdout",
     "output_type": "stream",
     "text": [
      "2021/12/28 11:43:59\n"
     ]
    }
   ],
   "source": [
    "year = 2021; month = 12; day = 28; hour = 11; min = 43; sec = 59\n",
    "\n",
    "print(year, month, day, sep= \"/\", end= \" \")\n",
    "print(hour, min, sec, sep= ':')\n",
    "\n"
   ]
  },
  {
   "cell_type": "markdown",
   "metadata": {},
   "source": [
    "---"
   ]
  },
  {
   "cell_type": "markdown",
   "metadata": {},
   "source": [
    "> .  \n",
    "> __문제 05)__     \n",
    "> ``` py\n",
    "> num(정수)이 홀수인지 짝수인지 판별하는 코드를 완성하시오.(5점)   \n",
    ">\n",
    "> num = 23721499387  \n",
    "> if ??? :  \n",
    ">     print(\"짝수\")  \n",
    "> else:  \n",
    ">     print(\"홀수\")  \n",
    "> ```  \n",
    "> .  "
   ]
  },
  {
   "cell_type": "code",
   "execution_count": 5,
   "metadata": {},
   "outputs": [
    {
     "name": "stdout",
     "output_type": "stream",
     "text": [
      "홀수\n"
     ]
    }
   ],
   "source": [
    "num = 23721499387\n",
    "if num % 2 == 0 :\n",
    "    print(\"짝수\")\n",
    "else:\n",
    "    print(\"홀수\")"
   ]
  },
  {
   "cell_type": "markdown",
   "metadata": {},
   "source": [
    "---"
   ]
  },
  {
   "cell_type": "markdown",
   "metadata": {},
   "source": [
    "> .  \n",
    "> __문제 06)__ \n",
    "> ``` py\n",
    "> \"Hello world\" 문자열을 10번 출력하기 위한 while, for 반복문을 완성하시오.(10점)\n",
    "> ```\n",
    "> .  "
   ]
  },
  {
   "cell_type": "code",
   "execution_count": 6,
   "metadata": {},
   "outputs": [
    {
     "name": "stdout",
     "output_type": "stream",
     "text": [
      "Hello world\n",
      "Hello world\n",
      "Hello world\n",
      "Hello world\n",
      "Hello world\n",
      "Hello world\n",
      "Hello world\n",
      "Hello world\n",
      "Hello world\n",
      "Hello world\n"
     ]
    }
   ],
   "source": [
    "# while 반복문\n",
    "num = 0\n",
    "while num < 10:\n",
    "    print(\"Hello world\")\n",
    "    num += 1"
   ]
  },
  {
   "cell_type": "code",
   "execution_count": 7,
   "metadata": {},
   "outputs": [
    {
     "name": "stdout",
     "output_type": "stream",
     "text": [
      "Hello world\n",
      "Hello world\n",
      "Hello world\n",
      "Hello world\n",
      "Hello world\n",
      "Hello world\n",
      "Hello world\n",
      "Hello world\n",
      "Hello world\n",
      "Hello world\n"
     ]
    }
   ],
   "source": [
    "# for 반복문\n",
    "for i in range(10):\n",
    "    print(\"Hello world\")"
   ]
  },
  {
   "cell_type": "markdown",
   "metadata": {},
   "source": [
    "---"
   ]
  },
  {
   "cell_type": "markdown",
   "metadata": {},
   "source": [
    "> .  \n",
    "> __문제 07)__\n",
    "> ``` py\n",
    "> 정수 세 개를 입력받아 변수 a, b, c에 각각 저장한 후   \n",
    "> 세 정수의 합이 출력되도록 하는 프로그램을 작성하시오.(10점)  \n",
    "> ```\n",
    "> .  "
   ]
  },
  {
   "cell_type": "code",
   "execution_count": 8,
   "metadata": {},
   "outputs": [
    {
     "name": "stdout",
     "output_type": "stream",
     "text": [
      "입력한 값의 총합: 6\n"
     ]
    }
   ],
   "source": [
    "# a, b, c 각각의 변수에 값 입력받기\n",
    "a = int(input(\"1번 정수 입력: \"))\n",
    "b = int(input(\"2번 정수 입력: \"))\n",
    "c = int(input(\"3번 정수 입력: \"))\n",
    "\n",
    "# 입력 받은 세 정수의 합 계산\n",
    "total = a + b + c\n",
    "\n",
    "# 출력\n",
    "print(\"입력한 값의 총합: %d\" % total)"
   ]
  },
  {
   "cell_type": "markdown",
   "metadata": {},
   "source": [
    "---"
   ]
  },
  {
   "cell_type": "markdown",
   "metadata": {},
   "source": [
    "> .    \n",
    "> __문제 08)__\n",
    "> ``` py   \n",
    "> 철수의 국어, 영어, 수학, 과학 점수를 입력받아 한 과목이라도 50점 미만이면 불합격 처리 하고자 한다.   \n",
    "> 다음 소스 코드를 완성하여 합격이면 True, 불합격이면 False 가 출력되도록 하시오.(10점)   \n",
    ">      \n",
    "> korean = 92\n",
    "> english = 47\n",
    "> mathematics = 86\n",
    "> science = 81    \n",
    ">   \n",
    "> print( ??? )   \n",
    ">    \n",
    "> [실행결과]   \n",
    "> False   \n",
    "> ```   \n",
    "> .   "
   ]
  },
  {
   "cell_type": "code",
   "execution_count": 9,
   "metadata": {},
   "outputs": [
    {
     "name": "stdout",
     "output_type": "stream",
     "text": [
      "False\n"
     ]
    }
   ],
   "source": [
    "korean  = 92\n",
    "english = 47\n",
    "mathematics = 86\n",
    "science = 81\n",
    "\n",
    "print(english<50 and korean < 50 and mathematics < 50 and science <50)"
   ]
  },
  {
   "cell_type": "markdown",
   "metadata": {},
   "source": [
    "---"
   ]
  },
  {
   "cell_type": "markdown",
   "metadata": {},
   "source": [
    "> .   \n",
    "> __문제 09)__\n",
    "> ``` py\n",
    "> 사용자로부터 문자열을 입력받아 각 문자의 아스키 코드에 5를 더하여    \n",
    "> 암호화된 문자열을 출력하는 프로그램을 작성하시오.   \n",
    "> 단, 함수 ord()와 chr()을 활용하시오.(15점)   \n",
    ">         \n",
    "> [실행결과]   \n",
    "> 문자열을 입력하시오: Python # 사용자가 입력한 문자열   \n",
    "> 암호화된 문자열은 U~ymts   \n",
    "> ```\n",
    "> .    "
   ]
  },
  {
   "cell_type": "code",
   "execution_count": 10,
   "metadata": {},
   "outputs": [
    {
     "name": "stdout",
     "output_type": "stream",
     "text": [
      "암호화된 문자열은 : U~ymts\n"
     ]
    }
   ],
   "source": [
    "# 사용자로부터 암호 입력받기\n",
    "input_pw = input(\"암호 입력: \")\n",
    "# 암호화에 사용될 리스트 자료형\n",
    "ord_pw = []\n",
    "chr_pw = []\n",
    "# 암호화 과정 : 문자열 인덱스로 하나씩 추출후 +5를 한후 ord()함수에 대입후 ord_pw리스트에 문자 삽입\n",
    "for a in range(len(input_pw)):\n",
    "    ord_pw.append(ord(input_pw[a]) + 5)\n",
    "# ord_pw 리스트값을 인덱스로 지정하고 chr함수를 이용하여 chr_pw에 각각 하나씩 삽입\n",
    "for a in range(len(ord_pw)):\n",
    "    chr_pw.append(chr(ord_pw[a]))\n",
    "# 리스트를 join함수로 연결\n",
    "change_pw = \"\".join(chr_pw)\n",
    "# 출력\n",
    "print(\"암호화된 문자열은 : %s\"%change_pw)"
   ]
  },
  {
   "cell_type": "markdown",
   "metadata": {},
   "source": [
    "---"
   ]
  },
  {
   "cell_type": "markdown",
   "metadata": {},
   "source": [
    "> .   \n",
    "> __문제 10)__    \n",
    "> ``` py  \n",
    "> 사용자로부터 초 단위 시간을 입력받아 몇 시, 몇 분, 몇 초 인지를 계산하는 프로그램을 작성하시오.    \n",
    "> 단, 아래의 주어진 함수를 완성하여 작성할 것.(15점)    \n",
    ">      \n",
    "> def get_hms(secs):   \n",
    ">     hours = ???   \n",
    ">     mins  = ???   \n",
    ">     secs  = ???   \n",
    ">     print('시간은 %02d:%02d:%02d' % (hours, mins, secs))\n",
    ">        \n",
    "> [실행결과]   \n",
    "> 초(sec)를 입력하시오: 12080 # 사용자가 입력한 수   \n",
    "> 시간은 03:21:20   \n",
    "> ```\n",
    "> .   "
   ]
  },
  {
   "cell_type": "code",
   "execution_count": 17,
   "metadata": {},
   "outputs": [
    {
     "name": "stdout",
     "output_type": "stream",
     "text": [
      "시간은 03:22:00\n"
     ]
    }
   ],
   "source": [
    "def get_hms(secs):   \n",
    "     hours = secs / 3600   \n",
    "     mins  = (secs % 3600) / 60   \n",
    "     secs  = (secs % 3600) % 60 % 60\n",
    "     print('시간은 %02d:%02d:%02d' % (hours, mins, secs))\n",
    "\n",
    "secs = int(input(\"초단위로 시간 입력: \"))\n",
    "get_hms(secs)"
   ]
  },
  {
   "cell_type": "markdown",
   "metadata": {},
   "source": [
    "---"
   ]
  },
  {
   "cell_type": "markdown",
   "metadata": {},
   "source": [
    "> .   \n",
    "> __문제 11)__\n",
    "> ``` py\n",
    "> 백화점에서 한달 동안 이벤트를 진행한다. 제품을 구매한 고객들에게    \n",
    "> 성별, 나이별로 적립 금액을 다르게 지급할 예정이다.   \n",
    "> 다음의 요구사항을 만족하는 프로그램을 작성하시오.(15점)\n",
    ">          \n",
    "> <요구사항>   \n",
    "> 1. 남자는 나이에 상관없이 구매 금액의 3% 적립   \n",
    "> 2. 여자는 20대 미만인 경우 금액의 1.5%, 20대는 3%,    \n",
    ">    30대는 4.5%, 40대 이상은 6% 적립         \n",
    ">       \n",
    "> [실행결과]   \n",
    "> 성별을 입력하세요(여자:F, 남자:M, 종료:Q 또는 q): M   \n",
    "> 나이를 입력하세요: 25   \n",
    "> 제품의 총 구매액을 입력하세요: 10000   \n",
    "> 당신의 적립 금액은 300.00 원입니다.     \n",
    ">          \n",
    "> 성별을 입력하세요(여자:F, 남자:M, 종료:Q 또는 q): F   \n",
    "> 나이를 입력하세요: 10   \n",
    "> 제품의 총 구매액을 입력하세요: 10000   \n",
    "> 당신의 적립 금액은 150.00 원입니다.  \n",
    ">      \n",
    "> 성별을 입력하세요(여자:F, 남자:M, 종료:Q 또는 q): t   \n",
    "> 잘못입력하셨습니다.   \n",
    ">      \n",
    "> 성별을 입력하세요(여자:F, 남자:M, 종료:Q 또는 q): q   \n",
    "> 프로그램을 종료합니다.   \n",
    "> ```   \n",
    "> .      "
   ]
  },
  {
   "cell_type": "code",
   "execution_count": 23,
   "metadata": {},
   "outputs": [
    {
     "name": "stdout",
     "output_type": "stream",
     "text": [
      "당신의 적립금액은 600.0원입니다.\n",
      "프로그램을 종료합니다.\n"
     ]
    }
   ],
   "source": [
    "def save_point(amount, rate): # (구매액, 적립률) \n",
    "    print(\"당신의 적립금액은 {}원입니다.\".format(amount * (rate / 100)))\n",
    "\n",
    "while True :\n",
    "    # 성별 입력\n",
    "    gender = input(\"성별을 입력하세요(여자:F, 남자:M, 종료:Q 또는 q)\")\n",
    "    while(gender != 'M' and gender != 'F' and gender != 'q'):\n",
    "        gender = input(\"성별을 입력하세요(여자:F, 남자:M, 종료:Q 또는 q)\")\n",
    "        print(\"잘못입력하셨습니다.\")\n",
    "    # 성별 검증\n",
    "    if gender == \"M\":\n",
    "       # 나이변수\n",
    "        age = int(input(\"나이를 입력하세요: \"))\n",
    "       # 사용금액 변수 \n",
    "        cash = int(input(\"제품의 총 구매액을 입력하세요\"))\n",
    "       # 적립금 변수 \n",
    "        rate = 3\n",
    "        # 함수호출\n",
    "        save_point(cash,rate)\n",
    "    elif gender == \"F\":\n",
    "        age = int(input(\"나이를 입력하세요: \"))\n",
    "        cash = int(input(\"제품의 총 구매액을 입력하세요\"))\n",
    "        if age < 20 :\n",
    "            rate = 1.5\n",
    "        elif age < 30 :\n",
    "            rate = 3\n",
    "        elif age < 40 :\n",
    "            rate = 4.5\n",
    "        else:\n",
    "            rate = 6\n",
    "        save_point(cash,rate)\n",
    "    else:\n",
    "        # 종료\n",
    "        print(\"프로그램을 종료합니다.\")\n",
    "        break\n",
    "    "
   ]
  },
  {
   "cell_type": "markdown",
   "metadata": {},
   "source": [
    "#       \n",
    "#      \n",
    "#### 수고하셨습니다."
   ]
  },
  {
   "cell_type": "markdown",
   "metadata": {},
   "source": [
    "---\n",
    "## 점수 : \n",
    "---"
   ]
  }
 ],
 "metadata": {
  "interpreter": {
   "hash": "4aa7a001941c8b447200068b1d71a3924cf04f02fe096f0aa27a7230a4a7f943"
  },
  "kernelspec": {
   "display_name": "Python 3.10.1 64-bit",
   "language": "python",
   "name": "python3"
  },
  "language_info": {
   "codemirror_mode": {
    "name": "ipython",
    "version": 3
   },
   "file_extension": ".py",
   "mimetype": "text/x-python",
   "name": "python",
   "nbconvert_exporter": "python",
   "pygments_lexer": "ipython3",
   "version": "3.10.1"
  },
  "orig_nbformat": 4
 },
 "nbformat": 4,
 "nbformat_minor": 2
}
